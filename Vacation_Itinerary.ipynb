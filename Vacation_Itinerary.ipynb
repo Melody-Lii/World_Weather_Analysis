{
 "cells": [
  {
   "cell_type": "markdown",
   "metadata": {},
   "source": [
    "# Challenge 3 Create a Travel Itinerary with a Corresponding Map"
   ]
  },
  {
   "cell_type": "code",
   "execution_count": 1,
   "metadata": {},
   "outputs": [],
   "source": [
    "import pandas as pd\n",
    "import requests\n",
    "import gmaps\n",
    "\n",
    "from config import g_key"
   ]
  },
  {
   "cell_type": "code",
   "execution_count": 2,
   "metadata": {},
   "outputs": [],
   "source": [
    "gmaps.configure(api_key=g_key)"
   ]
  },
  {
   "cell_type": "code",
   "execution_count": 3,
   "metadata": {},
   "outputs": [
    {
     "data": {
      "text/html": [
       "<div>\n",
       "<style scoped>\n",
       "    .dataframe tbody tr th:only-of-type {\n",
       "        vertical-align: middle;\n",
       "    }\n",
       "\n",
       "    .dataframe tbody tr th {\n",
       "        vertical-align: top;\n",
       "    }\n",
       "\n",
       "    .dataframe thead th {\n",
       "        text-align: right;\n",
       "    }\n",
       "</style>\n",
       "<table border=\"1\" class=\"dataframe\">\n",
       "  <thead>\n",
       "    <tr style=\"text-align: right;\">\n",
       "      <th></th>\n",
       "      <th>City_ID</th>\n",
       "      <th>City</th>\n",
       "      <th>Country</th>\n",
       "      <th>Max Temp</th>\n",
       "      <th>Lat</th>\n",
       "      <th>Lng</th>\n",
       "      <th>Hotel Name</th>\n",
       "    </tr>\n",
       "  </thead>\n",
       "  <tbody>\n",
       "    <tr>\n",
       "      <th>0</th>\n",
       "      <td>0</td>\n",
       "      <td>hithadhoo</td>\n",
       "      <td>MV</td>\n",
       "      <td>84.42</td>\n",
       "      <td>-0.60</td>\n",
       "      <td>73.08</td>\n",
       "      <td>Scoop Guest House</td>\n",
       "    </tr>\n",
       "    <tr>\n",
       "      <th>1</th>\n",
       "      <td>1</td>\n",
       "      <td>carnarvon</td>\n",
       "      <td>AU</td>\n",
       "      <td>71.60</td>\n",
       "      <td>-24.87</td>\n",
       "      <td>113.63</td>\n",
       "      <td>Hospitality Carnarvon</td>\n",
       "    </tr>\n",
       "    <tr>\n",
       "      <th>2</th>\n",
       "      <td>2</td>\n",
       "      <td>san quintin</td>\n",
       "      <td>MX</td>\n",
       "      <td>61.66</td>\n",
       "      <td>30.48</td>\n",
       "      <td>-115.95</td>\n",
       "      <td>Old Mill Hotel</td>\n",
       "    </tr>\n",
       "    <tr>\n",
       "      <th>3</th>\n",
       "      <td>3</td>\n",
       "      <td>quelimane</td>\n",
       "      <td>MZ</td>\n",
       "      <td>74.61</td>\n",
       "      <td>-17.88</td>\n",
       "      <td>36.89</td>\n",
       "      <td>Hotel Flamingo</td>\n",
       "    </tr>\n",
       "    <tr>\n",
       "      <th>4</th>\n",
       "      <td>8</td>\n",
       "      <td>aksu</td>\n",
       "      <td>CN</td>\n",
       "      <td>87.39</td>\n",
       "      <td>41.12</td>\n",
       "      <td>80.26</td>\n",
       "      <td>Pudong Holiday Hotel</td>\n",
       "    </tr>\n",
       "    <tr>\n",
       "      <th>...</th>\n",
       "      <td>...</td>\n",
       "      <td>...</td>\n",
       "      <td>...</td>\n",
       "      <td>...</td>\n",
       "      <td>...</td>\n",
       "      <td>...</td>\n",
       "      <td>...</td>\n",
       "    </tr>\n",
       "    <tr>\n",
       "      <th>362</th>\n",
       "      <td>562</td>\n",
       "      <td>namatanai</td>\n",
       "      <td>PG</td>\n",
       "      <td>82.60</td>\n",
       "      <td>-3.67</td>\n",
       "      <td>152.43</td>\n",
       "      <td>Namatanai Hotel</td>\n",
       "    </tr>\n",
       "    <tr>\n",
       "      <th>363</th>\n",
       "      <td>563</td>\n",
       "      <td>eyl</td>\n",
       "      <td>SO</td>\n",
       "      <td>91.81</td>\n",
       "      <td>7.98</td>\n",
       "      <td>49.82</td>\n",
       "      <td>Amiin Hotel</td>\n",
       "    </tr>\n",
       "    <tr>\n",
       "      <th>364</th>\n",
       "      <td>565</td>\n",
       "      <td>dawlatabad</td>\n",
       "      <td>AF</td>\n",
       "      <td>100.98</td>\n",
       "      <td>36.41</td>\n",
       "      <td>64.91</td>\n",
       "      <td>WASIM ASGAR KHAN</td>\n",
       "    </tr>\n",
       "    <tr>\n",
       "      <th>365</th>\n",
       "      <td>566</td>\n",
       "      <td>kautokeino</td>\n",
       "      <td>NO</td>\n",
       "      <td>67.06</td>\n",
       "      <td>69.01</td>\n",
       "      <td>23.04</td>\n",
       "      <td>Ailo Matki &amp; Tourist -Kautokeino bilutleie</td>\n",
       "    </tr>\n",
       "    <tr>\n",
       "      <th>366</th>\n",
       "      <td>567</td>\n",
       "      <td>puerto escondido</td>\n",
       "      <td>MX</td>\n",
       "      <td>79.81</td>\n",
       "      <td>15.85</td>\n",
       "      <td>-97.07</td>\n",
       "      <td>Aldea del Bazar Hotel and Spa</td>\n",
       "    </tr>\n",
       "  </tbody>\n",
       "</table>\n",
       "<p>367 rows × 7 columns</p>\n",
       "</div>"
      ],
      "text/plain": [
       "     City_ID              City Country  Max Temp    Lat     Lng  \\\n",
       "0          0         hithadhoo      MV     84.42  -0.60   73.08   \n",
       "1          1         carnarvon      AU     71.60 -24.87  113.63   \n",
       "2          2       san quintin      MX     61.66  30.48 -115.95   \n",
       "3          3         quelimane      MZ     74.61 -17.88   36.89   \n",
       "4          8              aksu      CN     87.39  41.12   80.26   \n",
       "..       ...               ...     ...       ...    ...     ...   \n",
       "362      562         namatanai      PG     82.60  -3.67  152.43   \n",
       "363      563               eyl      SO     91.81   7.98   49.82   \n",
       "364      565        dawlatabad      AF    100.98  36.41   64.91   \n",
       "365      566        kautokeino      NO     67.06  69.01   23.04   \n",
       "366      567  puerto escondido      MX     79.81  15.85  -97.07   \n",
       "\n",
       "                                     Hotel Name  \n",
       "0                             Scoop Guest House  \n",
       "1                         Hospitality Carnarvon  \n",
       "2                                Old Mill Hotel  \n",
       "3                                Hotel Flamingo  \n",
       "4                          Pudong Holiday Hotel  \n",
       "..                                          ...  \n",
       "362                             Namatanai Hotel  \n",
       "363                                 Amiin Hotel  \n",
       "364                            WASIM ASGAR KHAN  \n",
       "365  Ailo Matki & Tourist -Kautokeino bilutleie  \n",
       "366               Aldea del Bazar Hotel and Spa  \n",
       "\n",
       "[367 rows x 7 columns]"
      ]
     },
     "execution_count": 3,
     "metadata": {},
     "output_type": "execute_result"
    }
   ],
   "source": [
    "vacation_df = pd.read_csv(\"./data/WeatherPy_Vacation.csv\")\n",
    "vacation_df"
   ]
  },
  {
   "cell_type": "code",
   "execution_count": 4,
   "metadata": {},
   "outputs": [],
   "source": [
    "info_box_template = \"\"\"\n",
    "<dl>\n",
    "<dt>Hotel Name</dt><dd>{Hotel Name}</dd>\n",
    "<dt>City</dt><dd>{City}</dd>\n",
    "<dt>Country</dt><dd>{Country}</dd>\n",
    "<dt>Hotel Name</dt><dd>{Hotel Name} at {Max Temp}</dd>\n",
    "\"\"\"\n",
    "# Store the DataFrame Row.\n",
    "hotel_info = [info_box_template.format(**row) for index, row in vacation_df.iterrows()]\n",
    "locations = vacation_df[[\"Lat\",\"Lng\"]]"
   ]
  },
  {
   "cell_type": "code",
   "execution_count": 5,
   "metadata": {},
   "outputs": [
    {
     "data": {
      "application/vnd.jupyter.widget-view+json": {
       "model_id": "0fbca9c2ff32443a8f839c440e6f05f5",
       "version_major": 2,
       "version_minor": 0
      },
      "text/plain": [
       "Figure(layout=FigureLayout(height='420px'))"
      ]
     },
     "metadata": {},
     "output_type": "display_data"
    }
   ],
   "source": [
    "marker_layer = gmaps.marker_layer(locations, info_box_content=hotel_info)\n",
    "fig = gmaps.figure()\n",
    "fig.add_layer(marker_layer)\n",
    "\n",
    "fig"
   ]
  },
  {
   "cell_type": "code",
   "execution_count": 6,
   "metadata": {},
   "outputs": [],
   "source": [
    "vacation_start = vacation_df.loc[vacation_df[\"City\"] == \"erlenbach\"]\n",
    "vacation_end = vacation_df.loc[vacation_df[\"City\"] == \"libin\"]\n",
    "vacation_stop1 = vacation_df.loc[vacation_df[\"City\"] == \"lata\"]\n",
    "vacation_stop2 = vacation_df.loc[vacation_df[\"City\"] == \"girona\"]"
   ]
  },
  {
   "cell_type": "code",
   "execution_count": 7,
   "metadata": {},
   "outputs": [
    {
     "name": "stdout",
     "output_type": "stream",
     "text": [
      "(49.17, 9.27)\n",
      "(49.98, 5.28)\n",
      "(40.16, -8.33)\n",
      "(41.98, 2.82)\n"
     ]
    }
   ],
   "source": [
    "start = vacation_start[\"Lat\"].values[0], vacation_start[\"Lng\"].values[0]\n",
    "end = vacation_end[\"Lat\"].values[0], vacation_end[\"Lng\"].values[0]\n",
    "stop1 = vacation_stop1[\"Lat\"].values[0], vacation_stop1[\"Lng\"].values[0]\n",
    "stop2 = vacation_stop2[\"Lat\"].values[0], vacation_stop2[\"Lng\"].values[0]\n",
    "print(start)\n",
    "print(end)\n",
    "print(stop1)\n",
    "print(stop2)\n"
   ]
  },
  {
   "cell_type": "code",
   "execution_count": 14,
   "metadata": {},
   "outputs": [
    {
     "data": {
      "application/vnd.jupyter.widget-view+json": {
       "model_id": "f1f5fed39bc746f2ae9e0f748ea0eec6",
       "version_major": 2,
       "version_minor": 0
      },
      "text/plain": [
       "Figure(layout=FigureLayout(height='420px'))"
      ]
     },
     "metadata": {},
     "output_type": "display_data"
    }
   ],
   "source": [
    "fig = gmaps.figure()\n",
    "vacation_itinerary = gmaps.directions_layer(\n",
    "    start,end,waypoints=[stop1,stop2],\n",
    "    travel_mode=\"DRIVING\"\n",
    ")\n",
    "fig.add_layer(vacation_itinerary)\n",
    "fig"
   ]
  },
  {
   "cell_type": "code",
   "execution_count": 9,
   "metadata": {},
   "outputs": [],
   "source": [
    "itenerary_df = pd.concat([vacation_start, vacation_end, vacation_stop1, vacation_stop2])"
   ]
  },
  {
   "cell_type": "code",
   "execution_count": 10,
   "metadata": {},
   "outputs": [
    {
     "data": {
      "text/html": [
       "<div>\n",
       "<style scoped>\n",
       "    .dataframe tbody tr th:only-of-type {\n",
       "        vertical-align: middle;\n",
       "    }\n",
       "\n",
       "    .dataframe tbody tr th {\n",
       "        vertical-align: top;\n",
       "    }\n",
       "\n",
       "    .dataframe thead th {\n",
       "        text-align: right;\n",
       "    }\n",
       "</style>\n",
       "<table border=\"1\" class=\"dataframe\">\n",
       "  <thead>\n",
       "    <tr style=\"text-align: right;\">\n",
       "      <th></th>\n",
       "      <th>City_ID</th>\n",
       "      <th>City</th>\n",
       "      <th>Country</th>\n",
       "      <th>Max Temp</th>\n",
       "      <th>Lat</th>\n",
       "      <th>Lng</th>\n",
       "      <th>Hotel Name</th>\n",
       "    </tr>\n",
       "  </thead>\n",
       "  <tbody>\n",
       "    <tr>\n",
       "      <th>112</th>\n",
       "      <td>196</td>\n",
       "      <td>erlenbach</td>\n",
       "      <td>DE</td>\n",
       "      <td>68.0</td>\n",
       "      <td>49.17</td>\n",
       "      <td>9.27</td>\n",
       "      <td>Vienna House Easy Neckarsulm</td>\n",
       "    </tr>\n",
       "    <tr>\n",
       "      <th>184</th>\n",
       "      <td>303</td>\n",
       "      <td>libin</td>\n",
       "      <td>BE</td>\n",
       "      <td>72.0</td>\n",
       "      <td>49.98</td>\n",
       "      <td>5.28</td>\n",
       "      <td>Les Gamines</td>\n",
       "    </tr>\n",
       "    <tr>\n",
       "      <th>254</th>\n",
       "      <td>405</td>\n",
       "      <td>lata</td>\n",
       "      <td>PT</td>\n",
       "      <td>64.0</td>\n",
       "      <td>40.16</td>\n",
       "      <td>-8.33</td>\n",
       "      <td>Casa Maquia</td>\n",
       "    </tr>\n",
       "    <tr>\n",
       "      <th>68</th>\n",
       "      <td>125</td>\n",
       "      <td>girona</td>\n",
       "      <td>ES</td>\n",
       "      <td>75.0</td>\n",
       "      <td>41.98</td>\n",
       "      <td>2.82</td>\n",
       "      <td>Palau de Bellavista by URH</td>\n",
       "    </tr>\n",
       "  </tbody>\n",
       "</table>\n",
       "</div>"
      ],
      "text/plain": [
       "     City_ID       City Country  Max Temp    Lat   Lng  \\\n",
       "112      196  erlenbach      DE      68.0  49.17  9.27   \n",
       "184      303      libin      BE      72.0  49.98  5.28   \n",
       "254      405       lata      PT      64.0  40.16 -8.33   \n",
       "68       125     girona      ES      75.0  41.98  2.82   \n",
       "\n",
       "                       Hotel Name  \n",
       "112  Vienna House Easy Neckarsulm  \n",
       "184                   Les Gamines  \n",
       "254                   Casa Maquia  \n",
       "68     Palau de Bellavista by URH  "
      ]
     },
     "execution_count": 10,
     "metadata": {},
     "output_type": "execute_result"
    }
   ],
   "source": [
    "itenerary_df"
   ]
  },
  {
   "cell_type": "code",
   "execution_count": 11,
   "metadata": {},
   "outputs": [
    {
     "data": {
      "text/html": [
       "<div>\n",
       "<style scoped>\n",
       "    .dataframe tbody tr th:only-of-type {\n",
       "        vertical-align: middle;\n",
       "    }\n",
       "\n",
       "    .dataframe tbody tr th {\n",
       "        vertical-align: top;\n",
       "    }\n",
       "\n",
       "    .dataframe thead th {\n",
       "        text-align: right;\n",
       "    }\n",
       "</style>\n",
       "<table border=\"1\" class=\"dataframe\">\n",
       "  <thead>\n",
       "    <tr style=\"text-align: right;\">\n",
       "      <th></th>\n",
       "      <th>City_ID</th>\n",
       "      <th>City</th>\n",
       "      <th>Country</th>\n",
       "      <th>Max Temp</th>\n",
       "      <th>Lat</th>\n",
       "      <th>Lng</th>\n",
       "      <th>Hotel Name</th>\n",
       "    </tr>\n",
       "  </thead>\n",
       "  <tbody>\n",
       "    <tr>\n",
       "      <th>0</th>\n",
       "      <td>196</td>\n",
       "      <td>erlenbach</td>\n",
       "      <td>DE</td>\n",
       "      <td>68.0</td>\n",
       "      <td>49.17</td>\n",
       "      <td>9.27</td>\n",
       "      <td>Vienna House Easy Neckarsulm</td>\n",
       "    </tr>\n",
       "    <tr>\n",
       "      <th>1</th>\n",
       "      <td>303</td>\n",
       "      <td>libin</td>\n",
       "      <td>BE</td>\n",
       "      <td>72.0</td>\n",
       "      <td>49.98</td>\n",
       "      <td>5.28</td>\n",
       "      <td>Les Gamines</td>\n",
       "    </tr>\n",
       "    <tr>\n",
       "      <th>2</th>\n",
       "      <td>405</td>\n",
       "      <td>lata</td>\n",
       "      <td>PT</td>\n",
       "      <td>64.0</td>\n",
       "      <td>40.16</td>\n",
       "      <td>-8.33</td>\n",
       "      <td>Casa Maquia</td>\n",
       "    </tr>\n",
       "    <tr>\n",
       "      <th>3</th>\n",
       "      <td>125</td>\n",
       "      <td>girona</td>\n",
       "      <td>ES</td>\n",
       "      <td>75.0</td>\n",
       "      <td>41.98</td>\n",
       "      <td>2.82</td>\n",
       "      <td>Palau de Bellavista by URH</td>\n",
       "    </tr>\n",
       "  </tbody>\n",
       "</table>\n",
       "</div>"
      ],
      "text/plain": [
       "   City_ID       City Country  Max Temp    Lat   Lng  \\\n",
       "0      196  erlenbach      DE      68.0  49.17  9.27   \n",
       "1      303      libin      BE      72.0  49.98  5.28   \n",
       "2      405       lata      PT      64.0  40.16 -8.33   \n",
       "3      125     girona      ES      75.0  41.98  2.82   \n",
       "\n",
       "                     Hotel Name  \n",
       "0  Vienna House Easy Neckarsulm  \n",
       "1                   Les Gamines  \n",
       "2                   Casa Maquia  \n",
       "3    Palau de Bellavista by URH  "
      ]
     },
     "execution_count": 11,
     "metadata": {},
     "output_type": "execute_result"
    }
   ],
   "source": [
    "itenerary_df.reset_index(drop=True)"
   ]
  },
  {
   "cell_type": "code",
   "execution_count": 12,
   "metadata": {},
   "outputs": [],
   "source": [
    "info_box_template = \"\"\"\n",
    "<dl>\n",
    "<dt>Hotel Name</dt><dd>{Hotel Name}</dd>\n",
    "<dt>City</dt><dd>{City}</dd>\n",
    "<dt>Country</dt><dd>{Country}</dd>\n",
    "<dt>Hotel Name</dt><dd>{Hotel Name} at {Max Temp}</dd>\n",
    "\"\"\"\n",
    "# Store the DataFrame Row.\n",
    "hotel_info = [info_box_template.format(**row) for index, row in itenerary_df.iterrows()]\n",
    "locations = itenerary_df[[\"Lat\",\"Lng\"]]"
   ]
  },
  {
   "cell_type": "code",
   "execution_count": 13,
   "metadata": {},
   "outputs": [
    {
     "data": {
      "application/vnd.jupyter.widget-view+json": {
       "model_id": "55716f5639114dbeaf9d29ba7847e700",
       "version_major": 2,
       "version_minor": 0
      },
      "text/plain": [
       "Figure(layout=FigureLayout(height='420px'))"
      ]
     },
     "metadata": {},
     "output_type": "display_data"
    }
   ],
   "source": [
    "marker_layer = gmaps.marker_layer(locations, info_box_content=hotel_info)\n",
    "fig = gmaps.figure()\n",
    "fig.add_layer(marker_layer)\n",
    "\n",
    "fig"
   ]
  },
  {
   "cell_type": "code",
   "execution_count": null,
   "metadata": {},
   "outputs": [],
   "source": []
  }
 ],
 "metadata": {
  "kernelspec": {
   "display_name": "Python 3",
   "language": "python",
   "name": "python3"
  },
  "language_info": {
   "codemirror_mode": {
    "name": "ipython",
    "version": 3
   },
   "file_extension": ".py",
   "mimetype": "text/x-python",
   "name": "python",
   "nbconvert_exporter": "python",
   "pygments_lexer": "ipython3",
   "version": "3.7.6"
  }
 },
 "nbformat": 4,
 "nbformat_minor": 4
}
